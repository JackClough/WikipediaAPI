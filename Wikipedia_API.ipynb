{
 "cells": [
  {
   "cell_type": "markdown",
   "metadata": {},
   "source": [
    "# Scraping Wikipedia: Names by Year\n",
    "\n",
    "This notebook demonstrates how to collect names of people born each year from 1865 to 2015 using the Wikipedia API."
   ]
  },
  {
   "cell_type": "code",
   "execution_count": null,
   "metadata": {},
   "outputs": [],
   "source": [
    "import requests\n",
    "from collections import Counter\n",
    "import pandas as pd\n",
    "import time\n",
    "import random\n",
    "\n",
    "wikipedia_api_url = \"https://en.wikipedia.org/w/api.php\""
   ]
  },
  {
   "cell_type": "code",
   "execution_count": null,
   "metadata": {},
   "outputs": [
    {
     "name": "stdout",
     "output_type": "stream",
     "text": [
      "Start = 1865\n"
     ]
    }
   ],
   "source": [
    "# Build a list of names by year using the Wikipedia API\n",
    "\n",
    "req = {\n",
    "    'action': 'query',\n",
    "    'format': 'json',\n",
    "    'list': 'categorymembers',\n",
    "    'cmlimit': 500,\n",
    "    'cmtitle': 'Category:1865_births'\n",
    "}\n",
    "\n",
    "last_continue = {}\n",
    "year = 1865\n",
    "year_list = []\n",
    "print(f\"Start year: {year}\")"
   ]
  },
  {
   "cell_type": "code",
   "execution_count": null,
   "metadata": {},
   "outputs": [
    {
     "name": "stdout",
     "output_type": "stream",
     "text": [
      "current year = 1870\n",
      "current year = 1880\n",
      "sleeping for five-ish min\n",
      "current year = 1890\n",
      "current year = 1900\n",
      "sleeping for five-ish min\n",
      "current year = 1910\n",
      "current year = 1920\n",
      "sleeping for five-ish min\n",
      "current year = 1930\n",
      "current year = 1940\n",
      "sleeping for five-ish min\n",
      "current year = 1950\n",
      "current year = 1960\n",
      "sleeping for five-ish min\n"
     ]
    }
   ],
   "source": [
    "while year <= 2015:\n",
    "    req.update(last_continue)\n",
    "    result = requests.get(wikipedia_api_url, params=req).json()\n",
    "    for item in result['query']['categorymembers']:\n",
    "        year_list.append(f\"{year}@{item['title']}\")\n",
    "    if year == 2015:\n",
    "        print(f\"End year: {year}\")\n",
    "    if 'continue' in result:\n",
    "        last_continue = result['continue']\n",
    "    else:\n",
    "        year += 1\n",
    "        req['cmtitle'] = f'Category:{year}_births'\n",
    "        last_continue = {}\n",
    "        if year % 10 == 0:\n",
    "            print(f\"Current year: {year}\")\n",
    "        if year % 20 == 0:\n",
    "            time.sleep(300 + random.randrange(1, 60, 3))\n",
    "            print('Sleeping for five-ish min')\n",
    "        if \"cmcontinue\" in req:\n",
    "            req.pop(\"cmcontinue\")"
   ]
  },
  {
   "cell_type": "code",
   "execution_count": null,
   "metadata": {},
   "outputs": [],
   "source": [
    "# Save results to a tab-separated file\n",
    "\n",
    "with open(\"wikipedia_names.txt\", \"w\", encoding=\"utf-8\") as out_file:\n",
    "    out_file.write(\"Year\\tName\\n\")\n",
    "    for line in year_list:\n",
    "        year, name = line.split(\"@\", 1)\n",
    "        out_file.write(f\"{year}\\t{name}\\n\")"
   ]
  },
  {
   "cell_type": "code",
   "execution_count": null,
   "metadata": {},
   "outputs": [],
   "source": [
    "# Clean up names for further processing\n",
    "\n",
    "clean = []\n",
    "for name in year_list:\n",
    "    if '(' in name:\n",
    "        name = name.replace('(', '@').replace(')', '').replace(' @', '@').split(',', 1)[0]\n",
    "        clean.append(name)\n",
    "    else:\n",
    "        clean.append(name + '@NA')"
   ]
  },
  {
   "cell_type": "code",
   "execution_count": null,
   "metadata": {},
   "outputs": [],
   "source": [
    "# Replace '@' with ';' for easier splitting\n",
    "\n",
    "clean_yr_name_occ = [name.replace('@', ';') for name in clean]"
   ]
  },
  {
   "cell_type": "code",
   "execution_count": null,
   "metadata": {},
   "outputs": [],
   "source": [
    "# Split into year and name columns\n",
    "\n",
    "final_list = [i.split(';') for i in clean_yr_name_occ]"
   ]
  },
  {
   "cell_type": "code",
   "execution_count": null,
   "metadata": {},
   "outputs": [],
   "source": [
    "print(f'Total number of people in Wikipedia from 1865 to 2015: {len(final_list):,}')"
   ]
  },
  {
   "cell_type": "code",
   "execution_count": null,
   "metadata": {},
   "outputs": [],
   "source": [
    "# Read back the saved file if needed\n",
    "\n",
    "with open('wikipedia_names.txt') as f:\n",
    "    lines = f.readlines()"
   ]
  },
  {
   "cell_type": "code",
   "execution_count": null,
   "metadata": {},
   "outputs": [],
   "source": [
    "# Count the number of people per year\n",
    "\n",
    "years = []\n",
    "for i in final_list:\n",
    "    if i:\n",
    "        years.append(i[0])\n",
    "\n",
    "year_counts = Counter(years)\n",
    "print(year_counts.most_common(15))"
   ]
  },
  {
   "cell_type": "markdown",
   "metadata": {},
   "source": [
    "Note: The Wikipedia API caps results at 500 per year, so most years will have a maximum of 500 names."
   ]
  }
 ],
 "metadata": {
  "kernelspec": {
   "display_name": "Python 3",
   "language": "python",
   "name": "python3"
  },
  "language_info": {
   "codemirror_mode": {
    "name": "ipython",
    "version": 3
   },
   "file_extension": ".py",
   "mimetype": "text/x-python",
   "name": "python",
   "nbconvert_exporter": "python",
   "pygments_lexer": "ipython3",
   "version": "3.8.5"
  }
 },
 "nbformat": 4,
 "nbformat_minor": 2
}
